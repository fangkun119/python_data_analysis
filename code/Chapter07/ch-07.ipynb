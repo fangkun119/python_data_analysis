{
 "cells": [
  {
   "cell_type": "markdown",
   "metadata": {},
   "source": [
    "# Chapter 7 : Signal Processing and Time Series"
   ]
  },
  {
   "cell_type": "markdown",
   "metadata": {},
   "source": [
    "## 7.1. Statmodes and environments prepration"
   ]
  },
  {
   "cell_type": "markdown",
   "metadata": {},
   "source": [
    "* 信号处理: 要用于分析模拟信号和数字信号随时间变化的变量\n",
    "* 时间序列分析: 信号处理技术的一个分支，等间隔数据采样，找出某个值与该序列中之前特定周期数上的另一个数据点或者一组数据点之间的关系"
   ]
  },
  {
   "cell_type": "markdown",
   "metadata": {},
   "source": [
    "### 7.1.1 make sure the notebook work both for python2 and python3 "
   ]
  },
  {
   "cell_type": "code",
   "execution_count": 1,
   "metadata": {},
   "outputs": [],
   "source": [
    "from __future__ import division, print_function, unicode_literals"
   ]
  },
  {
   "cell_type": "markdown",
   "metadata": {},
   "source": [
    "### 7.1.2 install and import required libs"
   ]
  },
  {
   "cell_type": "code",
   "execution_count": 2,
   "metadata": {},
   "outputs": [],
   "source": [
    "#un-comment code below and run it if lib does not exists\n",
    "#!pip3 install --upgrade statsmodels\n",
    "#!pip3 install --upgrade pid\n",
    "#!pip3 install --upgrade pandas"
   ]
  },
  {
   "cell_type": "code",
   "execution_count": 3,
   "metadata": {},
   "outputs": [],
   "source": [
    "import pkgutil as pu\n",
    "import numpy as np\n",
    "import matplotlib as mpl\n",
    "import scipy as sp\n",
    "import pandas as pd\n",
    "import pydoc\n",
    "import statsmodels as sm\n",
    "from matplotlib.pylab import rcParams\n",
    "rcParams['figure.figsize']=15,6"
   ]
  },
  {
   "cell_type": "markdown",
   "metadata": {},
   "source": [
    "### 7.1.3 modules in statsmodels"
   ]
  },
  {
   "cell_type": "code",
   "execution_count": 4,
   "metadata": {},
   "outputs": [
    {
     "name": "stdout",
     "output_type": "stream",
     "text": [
      "Statsmodels version 0.9.0\n",
      "\n",
      "\n",
      "statsmodels.base \n",
      "statsmodels.compat \n",
      "statsmodels.datasets \n",
      "statsmodels.discrete \n",
      "statsmodels.distributions \n",
      "statsmodels.duration \n",
      "statsmodels.emplike \n",
      "statsmodels.formula \n",
      "statsmodels.genmod \n",
      "statsmodels.graphics \n",
      "statsmodels.imputation \n",
      "statsmodels.interface \n",
      "statsmodels.iolib \n",
      "statsmodels.miscmodels \n",
      "statsmodels.multivariate \n",
      "statsmodels.nonparametric DESCRIPTION For an overview of this module, see docs/source/nonparametric.rst PACKAGE CONTENTS _kernel_base _smoothers_lowess api bandwidths\n",
      "statsmodels.regression \n",
      "statsmodels.resampling \n",
      "statsmodels.robust \n",
      "statsmodels.sandbox \n",
      "statsmodels.src \n",
      "statsmodels.stats \n",
      "statsmodels.tools \n",
      "statsmodels.tsa \n"
     ]
    }
   ],
   "source": [
    "print(\"Statsmodels version\", sm.__version__)\n",
    "\n",
    "def clean(astr):\n",
    "   s = astr\n",
    "   # remove multiple spaces\n",
    "   s = ' '.join(s.split())\n",
    "   s = s.replace('=','')\n",
    "\n",
    "   return s\n",
    "\n",
    "def print_desc(prefix, pkg_path):\n",
    "   for pkg in pu.iter_modules(path=pkg_path):\n",
    "      name = prefix + \".\" + pkg[1]\n",
    "\n",
    "      if pkg[2] == True:\n",
    "         try:\n",
    "            docstr = pydoc.plain(pydoc.render_doc(name))\n",
    "            docstr = clean(docstr)\n",
    "            start = docstr.find(\"DESCRIPTION\")\n",
    "            docstr = docstr[start: start + 140]\n",
    "            print(name, docstr)\n",
    "         except:\n",
    "            continue\n",
    "\n",
    "print(\"\\n\")\n",
    "print_desc(\"statsmodels\", sm.__path__)"
   ]
  },
  {
   "cell_type": "markdown",
   "metadata": {},
   "source": [
    "## 7.2 Moving Average"
   ]
  },
  {
   "cell_type": "markdown",
   "metadata": {},
   "source": [
    "* 移动平均（SMA）：计算滑动窗口内数据的平均值，窗口每滑动一格，计算一个新的均值\n",
    "* 指数移动平均（EMA）：越旧的数据、对EMA的影响越弱（EMA<sub> n</sub> = EMA<sub> n-1</sub> + alpha (P<sub> n</sub> - EMA<sub> n-1</sub>)"
   ]
  },
  {
   "cell_type": "code",
   "execution_count": 5,
   "metadata": {},
   "outputs": [
    {
     "name": "stdout",
     "output_type": "stream",
     "text": [
      "<class 'pandas.core.frame.DataFrame'>\n",
      "RangeIndex: 309 entries, 0 to 308\n",
      "Data columns (total 2 columns):\n",
      "YEAR           309 non-null float64\n",
      "SUNACTIVITY    309 non-null float64\n",
      "dtypes: float64(2)\n",
      "memory usage: 4.9 KB\n"
     ]
    },
    {
     "data": {
      "text/html": [
       "<div>\n",
       "<style scoped>\n",
       "    .dataframe tbody tr th:only-of-type {\n",
       "        vertical-align: middle;\n",
       "    }\n",
       "\n",
       "    .dataframe tbody tr th {\n",
       "        vertical-align: top;\n",
       "    }\n",
       "\n",
       "    .dataframe thead th {\n",
       "        text-align: right;\n",
       "    }\n",
       "</style>\n",
       "<table border=\"1\" class=\"dataframe\">\n",
       "  <thead>\n",
       "    <tr style=\"text-align: right;\">\n",
       "      <th></th>\n",
       "      <th>YEAR</th>\n",
       "      <th>SUNACTIVITY</th>\n",
       "    </tr>\n",
       "  </thead>\n",
       "  <tbody>\n",
       "    <tr>\n",
       "      <th>0</th>\n",
       "      <td>1700.0</td>\n",
       "      <td>5.0</td>\n",
       "    </tr>\n",
       "    <tr>\n",
       "      <th>1</th>\n",
       "      <td>1701.0</td>\n",
       "      <td>11.0</td>\n",
       "    </tr>\n",
       "    <tr>\n",
       "      <th>2</th>\n",
       "      <td>1702.0</td>\n",
       "      <td>16.0</td>\n",
       "    </tr>\n",
       "  </tbody>\n",
       "</table>\n",
       "</div>"
      ],
      "text/plain": [
       "     YEAR  SUNACTIVITY\n",
       "0  1700.0          5.0\n",
       "1  1701.0         11.0\n",
       "2  1702.0         16.0"
      ]
     },
     "execution_count": 5,
     "metadata": {},
     "output_type": "execute_result"
    }
   ],
   "source": [
    "#pandas.stats is deprecated, we need use api in other libs like statsmodels\n",
    "#from pandas.stats.moments import rolling_mean \n",
    "import matplotlib.pyplot as plt\n",
    "import statsmodels.api as sm\n",
    "\n",
    "data_loader = sm.datasets.sunspots.load_pandas() # sun spots data set\n",
    "df = data_loader.data\n",
    "df.info()\n",
    "df.head(n=3)"
   ]
  },
  {
   "cell_type": "code",
   "execution_count": 6,
   "metadata": {},
   "outputs": [
    {
     "data": {
      "text/plain": [
       "array([1700., 1701., 1702., 1703., 1704.])"
      ]
     },
     "execution_count": 6,
     "metadata": {},
     "output_type": "execute_result"
    }
   ],
   "source": [
    "year_range = df[\"YEAR\"].values\n",
    "year_range[:5]"
   ]
  },
  {
   "cell_type": "code",
   "execution_count": 7,
   "metadata": {},
   "outputs": [
    {
     "data": {
      "image/png": "[encoded data removed]",
      "text/plain": [
       "<Figure size 432x288 with 1 Axes>"
      ]
     },
     "metadata": {
      "needs_background": "light"
     },
     "output_type": "display_data"
    }
   ],
   "source": [
    "plt.plot(year_range, df[\"SUNACTIVITY\"].values, label=\"Original\")\n",
    "plt.plot(year_range, df.rolling(window=11).mean()[\"SUNACTIVITY\"].values, label=\"SMA 11\") #SMA 11\n",
    "plt.plot(year_range, df.rolling(window=22).mean()[\"SUNACTIVITY\"].values, label=\"SMA 22\") #SMA 22\n",
    "plt.legend()\n",
    "plt.show()"
   ]
  },
  {
   "cell_type": "markdown",
   "metadata": {},
   "source": [
    "## 7.3 Window Function\n",
    "* 窗口函数：定义在一个区间（窗口）上的函数，超出定义域，函数值取零。可以使用它们来分析频谱、设计滤波器等\n",
    "* 窗口介绍：https://docs.scipy.org/doc/scipy/reference/generated/scipy.signal.get_window.html\n",
    "    * Boxcar（矩形窗口）：w(n) = 1\n",
    "    * Triang（三角形窗口, L可以是N,N+1或N-1）：w(n) = 1 - |(n - (N-1)/2) / (L/2)|\n",
    "    * Bartlett Window（钟形的布莱克曼窗口）： w(n) = a<sub>0</sub> - a<sub>1</sub>*cos(2*pi*n/(N-1)) + a<sub>2</sub>*cos(4*pi*n/(N-1))\n",
    "    * Hanning Window (钟形的汗宁窗口）：w(n) = 0.5*(1 - cos(2*pi*n/(N-1))"
   ]
  },
  {
   "cell_type": "code",
   "execution_count": 8,
   "metadata": {
    "scrolled": true
   },
   "outputs": [
    {
     "data": {
      "image/png": "[encoded data removed]",
      "text/plain": [
       "<Figure size 432x288 with 1 Axes>"
      ]
     },
     "metadata": {
      "needs_background": "light"
     },
     "output_type": "display_data"
    }
   ],
   "source": [
    "#pandas.stats is depricated, use another code to do this\n",
    "\n",
    "#import matplotlib.pyplot as plt\n",
    "#import statsmodels.api as sm\n",
    "#from pandas.stats.moments import rolling_window\n",
    "#import pandas as pd\n",
    "\n",
    "#data_loader = sm.datasets.sunspots.load_pandas()\n",
    "#df = data_loader.data.tail(150)\n",
    "#df = pd.DataFrame({'SUNACTIVITY':df['SUNACTIVITY'].values}, index=df['YEAR'])\n",
    "#ax = df.plot()\n",
    "\n",
    "#def plot_window(win_type):\n",
    "#    df2 = rolling_window(df, 22, win_type)\n",
    "#    df2.columns = [win_type]\n",
    "#    df2.plot(ax=ax)\n",
    "\n",
    "#plot_window('boxcar')\n",
    "#plot_window('triang')\n",
    "#plot_window('blackman')\n",
    "#plot_window('hanning')\n",
    "#plot_window('bartlett')\n",
    "#plt.show()\n",
    "\n",
    "import matplotlib.pyplot as plt\n",
    "import statsmodels.api as sm\n",
    "\n",
    "data_loader = sm.datasets.sunspots.load_pandas() # sun spots data set\n",
    "df = data_loader.data\n",
    "year_range = df[\"YEAR\"].values\n",
    "plt.plot(year_range, df[\"SUNACTIVITY\"].values, label=\"Original\")\n",
    "# 窗口长度取22是因为太阳黑子有3个周期，11年，22年，100年\n",
    "plt.plot(year_range, df.rolling(window=22, win_type='boxcar').mean()[\"SUNACTIVITY\"].values, label=\"boxcar\")\n",
    "plt.plot(year_range, df.rolling(window=22, win_type='triang').mean()[\"SUNACTIVITY\"].values, label=\"triang\")\n",
    "plt.plot(year_range, df.rolling(window=22, win_type='blackman').mean()[\"SUNACTIVITY\"].values, label=\"blackman\")\n",
    "plt.plot(year_range, df.rolling(window=22, win_type='hanning').mean()[\"SUNACTIVITY\"].values, label=\"hanning\")\n",
    "plt.plot(year_range, df.rolling(window=22, win_type='bartlett').mean()[\"SUNACTIVITY\"].values, label=\"bartlett\")\n",
    "plt.legend()\n",
    "plt.show()"
   ]
  },
  {
   "cell_type": "markdown",
   "metadata": {},
   "source": [
    "## 7.4 协整\n",
    "* 协整： 定义两个时间序列相关性。如果两个时间序列x(t)和y(t)的线性组合是稳态的，那么就称这两个序列具有共整合性或协整性。在这种情况下，方程式y(t) = a * x(t)应该是稳态的\n",
    "* 协整与相关性的区别（考虑醉汉与狗在一起散步的情形）：\n",
    "    * 相关性： 反映出他们是否在同一个方向上前进\n",
    "    * 协整： 反映一段时间后人和狗之间的距离\n",
    "* 如何计算：增广迪基福勒检验法（AugmentedDickeyFullertest，ADF）可以测试时间序列中的单位根，也可用于确定时间序列的协整关系"
   ]
  },
  {
   "cell_type": "markdown",
   "metadata": {},
   "source": [
    "(1) libs and functions"
   ]
  },
  {
   "cell_type": "code",
   "execution_count": 9,
   "metadata": {},
   "outputs": [],
   "source": [
    "import statsmodels.api as sm\n",
    "import pandas as pd\n",
    "import statsmodels.tsa.stattools as ts\n",
    "import numpy as np\n",
    "\n",
    "# 计算两个时间序列之间的ADF统计量\n",
    "def calc_adf(x, y):\n",
    "    result = sm.OLS(x, y).fit()    \n",
    "    return ts.adfuller(result.resid)"
   ]
  },
  {
   "cell_type": "markdown",
   "metadata": {},
   "source": [
    "(2) load data"
   ]
  },
  {
   "cell_type": "code",
   "execution_count": 10,
   "metadata": {},
   "outputs": [
    {
     "name": "stdout",
     "output_type": "stream",
     "text": [
      "---\n",
      " 309 \n",
      "---\n",
      " [[1700.    5.]\n",
      " [1701.   11.]] \n",
      "---\n",
      " [[2007.     7.5]\n",
      " [2008.     2.9]] \n",
      "---\n"
     ]
    }
   ],
   "source": [
    "data_loader = sm.datasets.sunspots.load_pandas()\n",
    "data = data_loader.data.values\n",
    "N = len(data)\n",
    "print(\"---\\n\", N,\"\\n---\\n\",data[:2],\"\\n---\\n\",data[-2:],\"\\n---\")"
   ]
  },
  {
   "cell_type": "code",
   "execution_count": 11,
   "metadata": {},
   "outputs": [
    {
     "name": "stdout",
     "output_type": "stream",
     "text": [
      "Self ADF: \n",
      " (-4.964718889594304e-16, 0.9585320860600559, 0, 308, {'10%': -2.571794416006072, '1%': -3.45176116018037, '5%': -2.870970093607691}, -21674.046609391728)\n"
     ]
    }
   ],
   "source": [
    "# 相同序列之间的ADF统计量（ADF度量值，P, 时间延迟, 样本量, Dict(样本量的t分布值))\n",
    "time = np.linspace(-2 * np.pi, 2 * np.pi, N)\n",
    "cosi = np.cos(np.cos(time))\n",
    "# 可以看出相关度非常高\n",
    "# (1) P值是0.9585，非常高\n",
    "# (2) ADF度量值是-4.9647E-16，比字典中所有的临界值都高\n",
    "print(\"Self ADF: \\n\", calc_adf(cosi, cosi))"
   ]
  },
  {
   "cell_type": "code",
   "execution_count": 12,
   "metadata": {},
   "outputs": [
    {
     "name": "stdout",
     "output_type": "stream",
     "text": [
      "ADF sine with noise: \n",
      " (-11.175058309560647, 2.5831690510791386e-20, 1, 307, {'10%': -2.571810878948318, '1%': -3.4518314994261337, '5%': -2.8710009653519166}, -1900.4238689709105)\n"
     ]
    }
   ],
   "source": [
    "# 增加噪声的序列，与原序列的ADF统计量\n",
    "noise = np.random.normal(0, .01, N)\n",
    "# 相关度差、且拒绝协整\n",
    "# (1) P值大幅降低，为1.36E-29\n",
    "# (2) ADF度量值是-16.7，低于字典中所有的临界值\n",
    "print(\"ADF sine with noise: \\n\", calc_adf(cosi, cosi + noise))"
   ]
  },
  {
   "cell_type": "code",
   "execution_count": 13,
   "metadata": {},
   "outputs": [
    {
     "name": "stdout",
     "output_type": "stream",
     "text": [
      "ADF sine vs cosine with noise: \n",
      " (-8.34252454151128, 3.148053345061276e-13, 16, 292, {'10%': -2.572071437887033, '1%': -3.4529449243622383, '5%': -2.871489553425686}, -6579.765192851954)\n"
     ]
    }
   ],
   "source": [
    "# 再举个例子\n",
    "sine  = np.sin(np.sin(time))\n",
    "print(\"ADF sine vs cosine with noise: \\n\", calc_adf(sine, cosi + noise))"
   ]
  },
  {
   "cell_type": "code",
   "execution_count": 14,
   "metadata": {},
   "outputs": [
    {
     "name": "stdout",
     "output_type": "stream",
     "text": [
      "Sine vs sunspots:\n",
      " (-6.7242691810701025, 3.4210811915548775e-09, 16, 292, {'10%': -2.572071437887033, '1%': -3.4529449243622383, '5%': -2.871489553425686}, -1102.5867415291168)\n"
     ]
    }
   ],
   "source": [
    "# 比较sini与太阳黑子数据\n",
    "print(\"Sine vs sunspots:\\n\", calc_adf(sine, data))"
   ]
  },
  {
   "cell_type": "markdown",
   "metadata": {},
   "source": [
    "## 7.5 自相关\n",
    "* 对两个给定的时间序列，我们只要知道其均值（$\\mu$）和标准差（$\\sigma$），就可以用期望值算子\n",
    "E((X<sub>t</sub>-$\\mu$<sub>t</sub>)(X<sub>s</sub>-$\\mu$<sub>s</sub>))/$\\sigma$<sub>t</sub>*$\\sigma$<sub>s</sub>\n",
    "来定义时间s和t的相关性\n",
    "* 自相关公式本质上就是把相关性公式应用在同一个时间序列的先前部分和滞后部分"
   ]
  },
  {
   "cell_type": "markdown",
   "metadata": {},
   "source": [
    "(1) 加载数据"
   ]
  },
  {
   "cell_type": "code",
   "execution_count": 15,
   "metadata": {},
   "outputs": [
    {
     "name": "stdout",
     "output_type": "stream",
     "text": [
      "data[:10]:\t [ 5. 11. 16. 23. 36. 58. 29. 20. 10.  8.]\n"
     ]
    }
   ],
   "source": [
    "#in version later than pandas 0.19, module plotting is moved to top layer 'pandas' from 'padas.tools'\n",
    "#from pandas.tools.plotting import autocorrelation_plot \n",
    "\n",
    "import numpy as np\n",
    "import pandas as pd\n",
    "import statsmodels.api as sm\n",
    "import matplotlib.pyplot as plt\n",
    "from pandas.plotting import autocorrelation_plot\n",
    "\n",
    "data_loader = sm.datasets.sunspots.load_pandas()\n",
    "data = data_loader.data[\"SUNACTIVITY\"].values\n",
    "print(\"data[:10]:\\t\",data[:10])"
   ]
  },
  {
   "cell_type": "markdown",
   "metadata": {},
   "source": [
    "(2) 计算自相关性"
   ]
  },
  {
   "cell_type": "code",
   "execution_count": 16,
   "metadata": {},
   "outputs": [
    {
     "name": "stdout",
     "output_type": "stream",
     "text": [
      "res[:5]: [ 1.          0.82020129  0.45126849  0.03957655 -0.27579196]\n"
     ]
    }
   ],
   "source": [
    "y = data - np.mean(data)\n",
    "norm = np.sum(y ** 2)\n",
    "correlated = np.correlate(y, y, mode='full')/norm\n",
    "res = correlated[int(len(correlated)/2):]\n",
    "print(\"res[:5]:\",res[:5])"
   ]
  },
  {
   "cell_type": "markdown",
   "metadata": {},
   "source": [
    "(3) 自相关性最高的5个时间延迟值"
   ]
  },
  {
   "cell_type": "code",
   "execution_count": 17,
   "metadata": {},
   "outputs": [
    {
     "name": "stdout",
     "output_type": "stream",
     "text": [
      "[ 9 11 10  1  0]\n",
      "1.0 0.8202012944200223 0.6589800155363378 0.650290819840704 0.47309753089805967\n"
     ]
    }
   ],
   "source": [
    "print(np.argsort(res)[-5:])  \n",
    "# 0:  延迟 0个周期 (自己与自己自相关性最高，为1.0)\n",
    "# 1:  延迟 1个周期（延迟1个周期自相关性次高，为0.82）\n",
    "# 10: 延迟10个周期（延迟1个周期自相关性次高，为0.66）\n",
    "# ...\n",
    "print(res[0],res[1],res[10],res[11],res[9])"
   ]
  },
  {
   "cell_type": "markdown",
   "metadata": {},
   "source": [
    "(4)可视化，绘制各个延迟周期下，自相关性的值"
   ]
  },
  {
   "cell_type": "code",
   "execution_count": 19,
   "metadata": {
    "scrolled": true
   },
   "outputs": [
    {
     "data": {
      "image/png": "[encoded data removed]",
      "text/plain": [
       "<Figure size 432x288 with 1 Axes>"
      ]
     },
     "metadata": {
      "needs_background": "light"
     },
     "output_type": "display_data"
    }
   ],
   "source": [
    "plt.plot(res)\n",
    "plt.grid(True)\n",
    "plt.xlabel(\"Lag\")\n",
    "plt.ylabel(\"Autocorrelation\")\n",
    "plt.show()"
   ]
  },
  {
   "cell_type": "markdown",
   "metadata": {},
   "source": [
    "(5) 可视化，用pandas的API再绘制一次"
   ]
  },
  {
   "cell_type": "code",
   "execution_count": 20,
   "metadata": {
    "scrolled": true
   },
   "outputs": [
    {
     "data": {
      "image/png": "[encoded data removed]",
      "text/plain": [
       "<Figure size 432x288 with 1 Axes>"
      ]
     },
     "metadata": {
      "needs_background": "light"
     },
     "output_type": "display_data"
    }
   ],
   "source": [
    "autocorrelation_plot(data)\n",
    "plt.show()"
   ]
  },
  {
   "cell_type": "markdown",
   "metadata": {},
   "source": [
    "## 自回归（Autoregressive）\n",
    "* 自回归：用于预测将来的值，它假定随机变量的值依赖于它之前某些时间点的值，通常假定值的关系是线性的\n",
    "* X<sub>t</sub> = C + SUM<sub>1</sub><sup>p</sup>(a<sub>i</sub>X<sub>t-i</sub>) + $\\epsilon$ （其中C是常数项偏置，$\\epsilon$是白噪声，公式与线性回归类似，差别在于所使用的特征X<sub>i</sub>，线性回归的一些技巧应当也可以用在这里）\n",
    "* 所要做的就是拟合参数，为了防止过拟合，需要使用交叉验证"
   ]
  },
  {
   "cell_type": "markdown",
   "metadata": {},
   "source": [
    "(1) 公用函数"
   ]
  },
  {
   "cell_type": "code",
   "execution_count": 21,
   "metadata": {},
   "outputs": [],
   "source": [
    "from scipy.optimize import leastsq\n",
    "import statsmodels.api as sm\n",
    "import matplotlib.pyplot as plt\n",
    "import numpy as np\n",
    "\n",
    "# predict function\n",
    "def model(p, x1, x10):\n",
    "    p1, p10 = p\n",
    "    return p1 * x1 + p10 * x10\n",
    "\n",
    "# distance between real value and predict value\n",
    "def error(p, data, x1, x10):\n",
    "    return data - model(p, x1, x10)\n",
    "\n",
    "# p is model parameter\n",
    "def fit(data):\n",
    "    p0 = [.5, 0.5]\n",
    "    # p0:       --> for parameter 'p'    of the error function above\n",
    "    # data[10:] --> for parameter 'data' of the error function above\n",
    "    # data[9:-1]--> for parameter 'x1'   of the error function above\n",
    "    # data[:-10]--> for parameter 'x10'  of the error function above\n",
    "    leastsq_output = leastsq(error, p0, args=(data[10:], data[9:-1], data[:-10]))\n",
    "    params = leastsq_output[0]\n",
    "    return params"
   ]
  },
  {
   "cell_type": "markdown",
   "metadata": {},
   "source": [
    "(2) 加载数据"
   ]
  },
  {
   "cell_type": "code",
   "execution_count": 22,
   "metadata": {},
   "outputs": [
    {
     "name": "stdout",
     "output_type": "stream",
     "text": [
      "sunsspots\n",
      " [ 5. 11. 16.]\n"
     ]
    }
   ],
   "source": [
    "data_loader = sm.datasets.sunspots.load_pandas()\n",
    "sunspots = data_loader.data[\"SUNACTIVITY\"].values\n",
    "print(\"sunsspots\\n\", sunspots[:3])"
   ]
  },
  {
   "cell_type": "markdown",
   "metadata": {},
   "source": [
    "(3) 训练模型"
   ]
  },
  {
   "cell_type": "code",
   "execution_count": 23,
   "metadata": {},
   "outputs": [
    {
     "name": "stdout",
     "output_type": "stream",
     "text": [
      "Params [0.67172672 0.33626295]\n"
     ]
    }
   ],
   "source": [
    "cutoff = int(.9 * len(sunspots))\n",
    "params = fit(sunspots[:cutoff])\n",
    "print(\"Params\", params)"
   ]
  },
  {
   "cell_type": "markdown",
   "metadata": {},
   "source": [
    "(4) 评估模型"
   ]
  },
  {
   "cell_type": "code",
   "execution_count": 24,
   "metadata": {},
   "outputs": [
    {
     "name": "stdout",
     "output_type": "stream",
     "text": [
      "pred[:3] [ 54.08273127  97.6104632  139.52581124]\n",
      "actual[:3] [ 92.5 155.4 154.6]\n",
      "Root mean square error 22.8148122612597\n",
      "Mean absolute error 17.651544650286237\n",
      "Mean absolute percentage error 60.78178007359871\n",
      "Symmetric Mean absolute percentage error 34.98433861762137\n",
      "Coefficient of determination 0.7999402927786483\n"
     ]
    }
   ],
   "source": [
    "pred   = params[0] * sunspots[cutoff-1:-1] + params[1] * sunspots[cutoff-10:-10]\n",
    "actual = sunspots[cutoff:]\n",
    "mid    = (actual + pred)/2\n",
    "print(\"pred[:3]\", pred[:3])\n",
    "print(\"actual[:3]\", actual[:3])\n",
    "print(\"Root mean square error\", np.sqrt(np.mean((actual - pred) ** 2)))\n",
    "print(\"Mean absolute error\",    np.mean(np.abs(actual - pred)))\n",
    "print(\"Mean absolute percentage error\", 100 * np.mean(np.abs(actual - pred)/actual))\n",
    "print(\"Symmetric Mean absolute percentage error\", 100 * np.mean(np.abs(actual - pred)/mid))\n",
    "print(\"Coefficient of determination\", 1 - ((actual - pred) ** 2).sum()/ ((actual - actual.mean()) ** 2).sum())"
   ]
  },
  {
   "cell_type": "markdown",
   "metadata": {},
   "source": [
    "(5) 预测结果散点图"
   ]
  },
  {
   "cell_type": "code",
   "execution_count": 25,
   "metadata": {
    "scrolled": true
   },
   "outputs": [
    {
     "data": {
      "image/png": "[encoded data removed]",
      "text/plain": [
       "<Figure size 432x288 with 1 Axes>"
      ]
     },
     "metadata": {
      "needs_background": "light"
     },
     "output_type": "display_data"
    }
   ],
   "source": [
    "year_range = data_loader.data[\"YEAR\"].values[cutoff:]\n",
    "plt.plot(year_range, actual, 'o', label=\"Sunspots\")\n",
    "plt.plot(year_range, pred, 'x', label=\"Prediction\")\n",
    "plt.grid(True)\n",
    "plt.xlabel(\"YEAR\")\n",
    "plt.ylabel(\"SUNACTIVITY\")\n",
    "plt.legend()\n",
    "plt.show()"
   ]
  },
  {
   "cell_type": "markdown",
   "metadata": {},
   "source": [
    "## 7.7 ARMA\n",
    "* https://www.jianshu.com/p/cced6617b423\n",
    "* 用于预测时间序列未来的值，由自回归（Autoregressive，AR) 和移动平均模型（Moving Average，MA) 结合而成\n",
    "* 假定随机变量分为噪声分量的线性组合，与时间序列的均值之和，下面是一个由p个自回归项和q个移动平均项组成的ARMA模型公式\n",
    "* X<sub>t</sub> = C + SUM<sub>i=1</sub><sup>p</sup>(a<sub>i</sub>x<sub>t-i</sub>) + SUM<sub>i=1</sub><sup>q</sup> (b<sub>i</sub>$\\epsilon$<sub>t-i</sub>)\n",
    "* 上面公式包含了常数项C，自回归项（p个），移动平均项（q个），当然还缺了白噪声部分需要拟合。这部分封装在statsmodelssm.tsa.ARMA()中"
   ]
  },
  {
   "cell_type": "markdown",
   "metadata": {},
   "source": [
    "(1) 加载数据"
   ]
  },
  {
   "cell_type": "code",
   "execution_count": 26,
   "metadata": {},
   "outputs": [
    {
     "name": "stdout",
     "output_type": "stream",
     "text": [
      "2008\n",
      "            SUNACTIVITY\n",
      "1700-12-31          5.0\n",
      "1701-12-31         11.0\n",
      "1702-12-31         16.0\n"
     ]
    }
   ],
   "source": [
    "import pandas as pd\n",
    "import matplotlib.pyplot as plt\n",
    "import statsmodels.api as sm\n",
    "import datetime\n",
    "\n",
    "data_loader = sm.datasets.sunspots.load_pandas()\n",
    "df = data_loader.data\n",
    "years = df[\"YEAR\"].values.astype(int)\n",
    "df.index = pd.Index(sm.tsa.datetools.dates_from_range(str(years[0]), \n",
    "str(years[-1])))\n",
    "del df[\"YEAR\"]\n",
    "\n",
    "print(str(years[-1]))\n",
    "print(df.head(n=3))"
   ]
  },
  {
   "cell_type": "markdown",
   "metadata": {},
   "source": [
    "(2) 训练模型和预测"
   ]
  },
  {
   "cell_type": "code",
   "execution_count": null,
   "metadata": {},
   "outputs": [
    {
     "name": "stderr",
     "output_type": "stream",
     "text": [
      "/usr/local/lib/python3.5/dist-packages/statsmodels/tsa/base/tsa_model.py:171: ValueWarning: No frequency information was provided, so inferred frequency A-DEC will be used.\n",
      "  % freq, ValueWarning)\n",
      "/usr/local/lib/python3.5/dist-packages/statsmodels/tsa/base/tsa_model.py:191: FutureWarning: Creating a DatetimeIndex by passing range endpoints is deprecated.  Use `pandas.date_range` instead.\n",
      "  start=index[0], end=index[-1], freq=freq)\n"
     ]
    }
   ],
   "source": [
    "# df: endogenous variable\n",
    "# (10,1): \n",
    "#   k_ar = 10, k_ar就是上面公式中的p，表示自回归项的个数\n",
    "#   k_ma = 1,  k_ma就是上面公式中的q，表示移动平均项的个数\n",
    "model = sm.tsa.ARMA(df, (10,1)).fit()\n",
    "\n",
    "# 1975: start\n",
    "# str(years[-1]): end\n",
    "prediction = model.predict('1975', str(years[-1]), dynamic=True)\n",
    "print(prediction.head(n=3))"
   ]
  },
  {
   "cell_type": "markdown",
   "metadata": {},
   "source": [
    "(3) 预测结果可视化"
   ]
  },
  {
   "cell_type": "code",
   "execution_count": null,
   "metadata": {},
   "outputs": [],
   "source": [
    "# it's overfitting, model in $7.6 is better\n",
    "df['1975':].plot()\n",
    "prediction.plot(style='--', label='Prediction')\n",
    "plt.legend()\n",
    "plt.show()"
   ]
  },
  {
   "cell_type": "markdown",
   "metadata": {},
   "source": [
    "## 7.8 Hilbert Huang Transform\n",
    "* 许多自然现象就像精确的时钟一样，具有规律性，希尔伯特黄变换（HilbertHuangtransform）用来发现这种规律\n",
    "* 科学家小组发现太阳黑子活动具有3个不同的周期。这3个周期的持续时间大致为11年、22年和100年，我们使用正弦函数之类的三角函数来模拟周期信号\n",
    "* 因为这里有3个周期，所以看上去通过3个正弦函数线性组合成一个模型比较合理"
   ]
  },
  {
   "cell_type": "markdown",
   "metadata": {},
   "source": [
    "(1) 加载python modules和公用方法"
   ]
  },
  {
   "cell_type": "code",
   "execution_count": null,
   "metadata": {},
   "outputs": [],
   "source": [
    "from scipy.optimize import leastsq\n",
    "import statsmodels.api as sm\n",
    "import matplotlib.pyplot as plt\n",
    "import numpy as np\n",
    "\n",
    "def model(parameters, time):\n",
    "    C, p1, f1, phi1 , p2, f2, phi2, p3, f3, phi3 = parameters \n",
    "    return C + (p1 * np.sin(f1 * time + phi1)) + (p2 * np.sin(f2 * time + phi2)) + (p3 * np.sin(f3 * time + phi3))\n",
    "\n",
    "def error(parameters, y, time):\n",
    "    return y - model(parameters, time)\n",
    "\n",
    "def fit(y, time):\n",
    "    # initial value of parameters\n",
    "    p0 = [y.mean(),    0, 2 * np.pi/11, 0,     0, 2 * np.pi/22, 0,     0, 2 * np.pi/100, 0] \n",
    "    # train parameters\n",
    "    params = leastsq(error, p0, args=(y, time))[0]\n",
    "    # return\n",
    "    return params"
   ]
  },
  {
   "cell_type": "markdown",
   "metadata": {},
   "source": [
    "(2) 加载数据"
   ]
  },
  {
   "cell_type": "code",
   "execution_count": null,
   "metadata": {},
   "outputs": [],
   "source": [
    "data_loader = sm.datasets.sunspots.load_pandas()\n",
    "sunspots = data_loader.data[\"SUNACTIVITY\"].values\n",
    "years = data_loader.data[\"YEAR\"].values\n",
    "cutoff = int(.9 * len(sunspots))\n",
    "\n",
    "print(\"sunspots[:3]: \", sunspots[:3])\n",
    "print(\"years[:3]\", years[:3])\n",
    "print(\"cutoff: \", cutoff)"
   ]
  },
  {
   "cell_type": "markdown",
   "metadata": {},
   "source": [
    "(3) 训练模型"
   ]
  },
  {
   "cell_type": "code",
   "execution_count": null,
   "metadata": {},
   "outputs": [],
   "source": [
    "params = fit(sunspots[:cutoff], years[:cutoff])\n",
    "print(\"Params\", params)"
   ]
  },
  {
   "cell_type": "markdown",
   "metadata": {},
   "source": [
    "(4) 模型评估"
   ]
  },
  {
   "cell_type": "code",
   "execution_count": null,
   "metadata": {},
   "outputs": [],
   "source": [
    "pred = model(params, years[cutoff:])\n",
    "actual = sunspots[cutoff:]\n",
    "mid = (actual + pred)/2\n",
    "\n",
    "print(\"Root mean square error:\\t\", np.sqrt(np.mean((actual - pred) ** 2)))\n",
    "print(\"Mean absolute error:\\t\", np.mean(np.abs(actual - pred)))\n",
    "print(\"Mean absolute percentage error:\\t\", 100 * np.mean(np.abs(actual - pred)/actual))\n",
    "print(\"Symmetric Mean absolute percentage error:\\t\", 100 * np.mean(np.abs(actual - pred)/mid))\n",
    "print(\"Coefficient of determination (1 means perfect, negative means very bad):\\t\", 1 - ((actual - pred) ** 2).sum()/ ((actual - actual.mean()) ** 2).sum())"
   ]
  },
  {
   "cell_type": "code",
   "execution_count": null,
   "metadata": {},
   "outputs": [],
   "source": [
    "year_range = data_loader.data[\"YEAR\"].values[cutoff:]\n",
    "plt.plot(year_range, actual, 'o', label=\"Sunspots\")\n",
    "plt.plot(year_range, pred, 'x', label=\"Prediction\")\n",
    "plt.grid(True)\n",
    "plt.xlabel(\"YEAR\")\n",
    "plt.ylabel(\"SUNACTIVITY\")\n",
    "plt.legend()\n",
    "plt.show()"
   ]
  },
  {
   "cell_type": "markdown",
   "metadata": {},
   "source": [
    "## 7.9 傅立叶分析\n",
    "* 傅立叶级数：是一种函数的数学表示方法，使用正弦函数和余弦函数构成的无穷级数来表示函数，这些函数可以是实值函数、也可以是虚函数\n",
    "* 傅立叶分析：对时间序列来说，将数据从时域映射到频域上，从而得到一个频谱\n",
    "* 对某些频谱来说，它们会在某些特定频率上表现出一些尖峰（例如乐曲中的音符）\n",
    "* 而白噪声则是由许多频率不同的信号组成，这些信号功率一样"
   ]
  },
  {
   "cell_type": "markdown",
   "metadata": {},
   "source": [
    "(1) 加载Python Modules和函数"
   ]
  },
  {
   "cell_type": "code",
   "execution_count": null,
   "metadata": {},
   "outputs": [],
   "source": [
    "import numpy as np\n",
    "import statsmodels.api as sm\n",
    "import matplotlib.pyplot as plt\n",
    "from scipy.fftpack import rfft      # 对实数进行快速傅立叶变换\n",
    "from scipy.fftpack import fftshift  # 把零频率分量（数据平均值）移动到频谱中央，看起来会更舒服一些"
   ]
  },
  {
   "cell_type": "markdown",
   "metadata": {},
   "source": [
    "(2) 加载数据"
   ]
  },
  {
   "cell_type": "code",
   "execution_count": null,
   "metadata": {},
   "outputs": [],
   "source": [
    "data_loader = sm.datasets.sunspots.load_pandas()\n",
    "sunspots = data_loader.data[\"SUNACTIVITY\"].values\n",
    "\n",
    "time = np.linspace(-2 * np.pi, 2 * np.pi, len(sunspots))\n",
    "mid  = np.ptp(sunspots)/2\n",
    "sine = mid + mid * np.sin(np.sin(time))\n",
    "\n",
    "print(\"time[:3]:\\t\", time[:3])\n",
    "print(\"mid:     \\t\", mid)\n",
    "print(\"sine[:3]:\\t\", sine[:3])"
   ]
  },
  {
   "cell_type": "markdown",
   "metadata": {},
   "source": [
    "(3) 对正弦波、以及太阳黑子数据进行快速傅立叶变换"
   ]
  },
  {
   "cell_type": "code",
   "execution_count": null,
   "metadata": {},
   "outputs": [],
   "source": [
    "sine_fft = np.abs(fftshift(rfft(sine)))\n",
    "print(\"Index of max sine FFT\", np.argsort(sine_fft)[-5:])\n",
    "\n",
    "transformed = np.abs(fftshift(rfft(sunspots)))\n",
    "print(\"Indices of max sunspots FFT\", np.argsort(transformed)[-5:])"
   ]
  },
  {
   "cell_type": "markdown",
   "metadata": {},
   "source": [
    "(4) 正弦波、以及太阳黑子数据的振幅频率"
   ]
  },
  {
   "cell_type": "code",
   "execution_count": null,
   "metadata": {},
   "outputs": [],
   "source": [
    "plt.subplot(311)\n",
    "plt.plot(sunspots, label=\"Sunspots\")\n",
    "plt.plot(sine, lw=2, label=\"Sine\")\n",
    "plt.grid(True)\n",
    "plt.legend()\n",
    "plt.subplot(312)\n",
    "plt.plot(transformed, label=\"Transformed Sunspots\")\n",
    "plt.grid(True)\n",
    "plt.legend()\n",
    "plt.subplot(313)\n",
    "plt.plot(sine_fft, lw=2, label=\"Transformed Sine\")\n",
    "plt.grid(True)\n",
    "plt.legend()\n",
    "plt.show()"
   ]
  },
  {
   "cell_type": "markdown",
   "metadata": {},
   "source": [
    "## 7.10 谱分析\n",
    "物理信号的功率频谱可以直观地展现该信号的能量分布"
   ]
  },
  {
   "cell_type": "code",
   "execution_count": null,
   "metadata": {},
   "outputs": [],
   "source": [
    "import numpy as np\n",
    "import statsmodels.api as sm\n",
    "import matplotlib.pyplot as plt\n",
    "from scipy.fftpack import rfft\n",
    "from scipy.fftpack import fftshift\n",
    "\n",
    "data_loader = sm.datasets.sunspots.load_pandas()\n",
    "sunspots = data_loader.data[\"SUNACTIVITY\"].values\n",
    "\n",
    "print(\"sunspots[:5]:\\t\", sunspots[:5])"
   ]
  },
  {
   "cell_type": "code",
   "execution_count": null,
   "metadata": {},
   "outputs": [],
   "source": [
    "transformed = fftshift(rfft(sunspots)) # 快速傅立叶变换\n",
    "power_spectrum = transformed ** 2      # 功率频率\n",
    "phase_spectrum = np.angle(transformed) # 相位谱、展现正弦函数的起始角\n",
    "\n",
    "print(\"transformed[:4]:\\t\", transformed[:4])\n",
    "print(\"power_spectrum[:4]:\\t\", power_spectrum[:4])\n",
    "print(\"phase_spectrum[:4]:\\t\", phase_spectrum[:4])"
   ]
  },
  {
   "cell_type": "code",
   "execution_count": null,
   "metadata": {},
   "outputs": [],
   "source": [
    "plt.subplot(311)\n",
    "plt.plot(sunspots, label=\"Sunspots\")\n",
    "plt.legend()\n",
    "plt.subplot(312)\n",
    "plt.plot(power_spectrum, label=\"Power Spectrum\")\n",
    "plt.legend()\n",
    "plt.subplot(313)\n",
    "plt.plot(phase_spectrum, label=\"Phase Spectrum\")\n",
    "plt.grid(True)\n",
    "plt.legend()\n",
    "plt.show()"
   ]
  },
  {
   "cell_type": "markdown",
   "metadata": {},
   "source": [
    "## 7.11 滤波\n",
    "* 滤波是一种信号处理技术，可以对信号的某些部分进行删减和抑制\n",
    "* 应用FFT之后，就可以对高频或低频进行过滤，或者设法删除白噪声（功率频率为常数的随机信号、不含任何有用信息）了"
   ]
  },
  {
   "cell_type": "markdown",
   "metadata": {},
   "source": [
    "(1) lib and functions"
   ]
  },
  {
   "cell_type": "code",
   "execution_count": null,
   "metadata": {},
   "outputs": [],
   "source": [
    "import statsmodels.api as sm\n",
    "import matplotlib.pyplot as plt\n",
    "from scipy.signal import medfilt  # 中值滤波器，用来计算滚动窗口的中值，可通过参数指定可选窗口的大小\n",
    "from scipy.signal import wiener   # Wiener滤波器，通过统计数值来删除噪声，对于一个滤波器g(t)与一个信号s(t)，可通过(g*[s+n])(t)来计算其卷积\n",
    "from scipy.signal import detrend  # 用来删除趋势。它可以是一个线性或者不变趋势"
   ]
  },
  {
   "cell_type": "markdown",
   "metadata": {},
   "source": [
    "(2) load data"
   ]
  },
  {
   "cell_type": "code",
   "execution_count": null,
   "metadata": {},
   "outputs": [],
   "source": [
    "data_loader = sm.datasets.sunspots.load_pandas()\n",
    "sunspots = data_loader.data[\"SUNACTIVITY\"].values\n",
    "years = data_loader.data[\"YEAR\"].values\n",
    "\n",
    "print(\"sunspots[:5]\",sunspots[:5])\n",
    "print(\"years[:5]\",years[:5])"
   ]
  },
  {
   "cell_type": "markdown",
   "metadata": {},
   "source": [
    "(3) plot"
   ]
  },
  {
   "cell_type": "code",
   "execution_count": null,
   "metadata": {},
   "outputs": [],
   "source": [
    "plt.plot(years, sunspots, label=\"SUNACTIVITY\")\n",
    "plt.plot(years, medfilt(sunspots, 11), lw=2, label=\"Median\")\n",
    "plt.plot(years, wiener(sunspots, 11), '--', lw=2, label=\"Wiener\")\n",
    "plt.plot(years, detrend(sunspots), lw=3, label=\"Detrend\")\n",
    "plt.xlabel(\"YEAR\")\n",
    "plt.grid(True)\n",
    "plt.legend()\n",
    "plt.show()"
   ]
  },
  {
   "cell_type": "markdown",
   "metadata": {},
   "source": []
  },
  {
   "cell_type": "code",
   "execution_count": null,
   "metadata": {},
   "outputs": [],
   "source": []
  }
 ],
 "metadata": {
  "kernelspec": {
   "display_name": "Python 3",
   "language": "python",
   "name": "python3"
  },
  "language_info": {
   "codemirror_mode": {
    "name": "ipython",
    "version": 3
   },
   "file_extension": ".py",
   "mimetype": "text/x-python",
   "name": "python",
   "nbconvert_exporter": "python",
   "pygments_lexer": "ipython3",
   "version": "3.5.2"
  }
 },
 "nbformat": 4,
 "nbformat_minor": 2
}
